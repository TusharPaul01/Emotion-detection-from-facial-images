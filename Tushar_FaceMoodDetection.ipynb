{
  "cells": [
    {
      "cell_type": "code",
      "execution_count": null,
      "metadata": {
        "id": "nYNUUp3qBV_T"
      },
      "outputs": [],
      "source": [
        "# Tushar Paul\n",
        "import tensorflow as tf\n",
        "import tensorflow.keras\n",
        "from tensorflow.keras import datasets, layers, models\n",
        "import matplotlib.pyplot as plt\n",
        "import numpy as np"
      ]
    },
    {
      "cell_type": "code",
      "execution_count": null,
      "metadata": {
        "colab": {
          "base_uri": "https://localhost:8080/"
        },
        "id": "kQ_2hjmakY9k",
        "outputId": "0e4047ce-d4a2-46cd-9d30-345e2691bb88"
      },
      "outputs": [
        {
          "output_type": "stream",
          "name": "stdout",
          "text": [
            "Drive already mounted at /content/drive; to attempt to forcibly remount, call drive.mount(\"/content/drive\", force_remount=True).\n"
          ]
        }
      ],
      "source": [
        "from google.colab import drive\n",
        "drive.mount('/content/drive')"
      ]
    },
    {
      "cell_type": "code",
      "execution_count": null,
      "metadata": {
        "id": "Lgoy8XIMli1Y"
      },
      "outputs": [],
      "source": [
        "image_path = '/content/drive/MyDrive/Face'"
      ]
    },
    {
      "cell_type": "code",
      "execution_count": null,
      "metadata": {
        "id": "sg2D6Xd2pn8r"
      },
      "outputs": [],
      "source": [
        "import os\n",
        "import shutil\n",
        "\n",
        "# Define paths to source directory and destination directories for each category\n",
        "source_dir = \"/content/drive/MyDrive/Face\"\n",
        "destination_dir = \"/content/drive/MyDrive/Face/Categorized\"\n",
        "\n",
        "# Create destination directories if they don't exist\n",
        "if not os.path.exists(destination_dir):\n",
        "    os.makedirs(destination_dir)\n",
        "\n",
        "# List all files in the source directory\n",
        "files = os.listdir(source_dir)\n",
        "\n",
        "# Define categories\n",
        "categories = ['angry','disgust','neutral', 'surprise', 'happy', 'sad']\n",
        "\n",
        "# Iterate over each file and move them to the corresponding category directory\n",
        "for file in files:\n",
        "    for category in categories:\n",
        "        if category in file:\n",
        "            category_dir = os.path.join(destination_dir, category)\n",
        "            if not os.path.exists(category_dir):\n",
        "                os.makedirs(category_dir)\n",
        "            # Move the file to the category directory\n",
        "            shutil.move(os.path.join(source_dir, file), category_dir)\n",
        "            break  # Break the loop once the file is moved to its category directory\n"
      ]
    },
    {
      "cell_type": "code",
      "execution_count": null,
      "metadata": {
        "id": "iF0IDse5tkP3"
      },
      "outputs": [],
      "source": [
        "cnn = models.Sequential([\n",
        "    layers.Conv2D(filters=32, kernel_size=(3, 3), activation='relu', input_shape=(32, 32, 3)),\n",
        "    layers.MaxPooling2D((2, 2)),\n",
        "\n",
        "    layers.Conv2D(filters=64, kernel_size=(3, 3), activation='relu'),\n",
        "    layers.MaxPooling2D((2, 2)),\n",
        "\n",
        "    layers.Flatten(),\n",
        "    layers.Dense(64, activation='relu'),\n",
        "    layers.Dense(10, activation='softmax')\n",
        "])"
      ]
    },
    {
      "cell_type": "code",
      "execution_count": null,
      "metadata": {
        "id": "PS8xWnUAtpmJ"
      },
      "outputs": [],
      "source": [
        "cnn.compile(optimizer='adam',\n",
        "              loss='sparse_categorical_crossentropy',\n",
        "              metrics=['accuracy'])"
      ]
    },
    {
      "cell_type": "code",
      "execution_count": null,
      "metadata": {
        "colab": {
          "base_uri": "https://localhost:8080/"
        },
        "id": "HBxhOjaQy-Zz",
        "outputId": "dd5604fb-aff9-40b5-cd9b-70287a6fca50"
      },
      "outputs": [
        {
          "output_type": "stream",
          "name": "stdout",
          "text": [
            "Found 21556 images belonging to 7 classes.\n",
            "Found 5385 images belonging to 7 classes.\n",
            "Class indices: {'angry': 0, 'disgust': 1, 'fear': 2, 'happy': 3, 'neutral': 4, 'sad': 5, 'surprise': 6}\n"
          ]
        }
      ],
      "source": [
        "import tensorflow as tf\n",
        "\n",
        "# Define parameters\n",
        "image_height = 224\n",
        "image_width = 224\n",
        "batch_size = 32\n",
        "\n",
        "# Define data generator\n",
        "data_generator = tf.keras.preprocessing.image.ImageDataGenerator(\n",
        "    rescale=1./255,  # Rescale pixel values to [0, 1]\n",
        "    validation_split=0.2  # Split data into training and validation sets\n",
        ")\n",
        "\n",
        "# Define path to dataset directory\n",
        "dataset_dir = \"/content/drive/MyDrive/Face/Categorized\"\n",
        "\n",
        "# Load training data\n",
        "train_generator = data_generator.flow_from_directory(\n",
        "    dataset_dir,\n",
        "    target_size=(image_height, image_width),\n",
        "    batch_size=batch_size,\n",
        "    class_mode='categorical',  # 'categorical' for multi-class classification\n",
        "    subset='training'  # training data\n",
        ")\n",
        "\n",
        "# Load validation data\n",
        "validation_generator = data_generator.flow_from_directory(\n",
        "    dataset_dir,\n",
        "    target_size=(image_height, image_width),\n",
        "    batch_size=batch_size,\n",
        "    class_mode='categorical',\n",
        "    subset='validation'  # Use validation data\n",
        ")\n",
        "\n",
        "# Print class indices\n",
        "print(\"Class indices:\", train_generator.class_indices)\n"
      ]
    },
    {
      "cell_type": "code",
      "execution_count": null,
      "metadata": {
        "colab": {
          "base_uri": "https://localhost:8080/"
        },
        "id": "9BmiT5k2zxcZ",
        "outputId": "679e21e0-4bd4-4277-bb4c-22e1c1926849"
      },
      "outputs": [
        {
          "output_type": "stream",
          "name": "stdout",
          "text": [
            "Epoch 1/4\n",
            "674/674 [==============================] - 5285s 8s/step - loss: 1.6575 - accuracy: 0.3473 - val_loss: 1.5388 - val_accuracy: 0.4026\n",
            "Epoch 2/4\n",
            "674/674 [==============================] - 2654s 4s/step - loss: 1.4050 - accuracy: 0.4632 - val_loss: 1.4020 - val_accuracy: 0.4620\n",
            "Epoch 3/4\n",
            "674/674 [==============================] - 2679s 4s/step - loss: 1.2385 - accuracy: 0.5315 - val_loss: 1.3741 - val_accuracy: 0.4735\n",
            "Epoch 4/4\n",
            "439/674 [==================>...........] - ETA: 14:29 - loss: 1.0268 - accuracy: 0.6150"
          ]
        }
      ],
      "source": [
        "# Define and compile CNN model\n",
        "model = tf.keras.Sequential([\n",
        "    tf.keras.layers.Conv2D(32, (3, 3), activation='relu', input_shape=(image_height, image_width, 3)),\n",
        "    tf.keras.layers.MaxPooling2D((2, 2)),\n",
        "    tf.keras.layers.Conv2D(64, (3, 3), activation='relu'),\n",
        "    tf.keras.layers.MaxPooling2D((2, 2)),\n",
        "    tf.keras.layers.Conv2D(128, (3, 3), activation='relu'),\n",
        "    tf.keras.layers.MaxPooling2D((2, 2)),\n",
        "    tf.keras.layers.Flatten(),\n",
        "    tf.keras.layers.Dense(128, activation='relu'),\n",
        "    tf.keras.layers.Dense(len(train_generator.class_indices), activation='softmax')\n",
        "])\n",
        "\n",
        "model.compile(optimizer='adam',\n",
        "              loss='categorical_crossentropy',\n",
        "              metrics=['accuracy'])\n",
        "\n",
        "# Train the model\n",
        "history = model.fit(\n",
        "    train_generator,\n",
        "    epochs=4,        # Increase epoch to increase accuracy & reduce losses\n",
        "    validation_data=validation_generator\n",
        ")"
      ]
    },
    {
      "cell_type": "code",
      "source": [
        "# Define the path where want to save the model\n",
        "model_save_path = \"/content/drive/MyDrive/trained_model.h5\"\n",
        "\n",
        "# Save the model\n",
        "model.save(model_save_path)\n",
        "\n",
        "print(\"Model saved successfully at:\", model_save_path)"
      ],
      "metadata": {
        "id": "nrRESsZLXmLG"
      },
      "execution_count": null,
      "outputs": []
    },
    {
      "cell_type": "code",
      "source": [
        "from tensorflow.keras.models import load_model\n",
        "# Load the saved model\n",
        "loaded_model = load_model(model_save_path)"
      ],
      "metadata": {
        "id": "v7QPVvPxynJS"
      },
      "execution_count": null,
      "outputs": []
    },
    {
      "cell_type": "code",
      "source": [
        "limport matplotlib.pyplot as plt\n",
        "import matplotlib.image as mpimg\n",
        "\n",
        "#img_name = '2398.jpg'  # Replace 'example_image.jpg' with the name of your image file\n",
        "img = mpimg.imread(\"/content/drive/MyDrive/Face/Categorized/sad/sad/2262.jpg\")\n",
        "plt.imshow(img)\n",
        "plt.axis('off')  # Turn off axis\n",
        "plt.show()"
      ],
      "metadata": {
        "colab": {
          "base_uri": "https://localhost:8080/",
          "height": 406
        },
        "id": "0-n1pl372UoI",
        "outputId": "73b620df-6e40-4e5b-801a-0073a9afda21"
      },
      "execution_count": null,
      "outputs": [
        {
          "output_type": "display_data",
          "data": {
            "text/plain": [
              "<Figure size 640x480 with 1 Axes>"
            ],
            "image/png": "[encoded data removed]"
          },
          "metadata": {}
        }
      ]
    },
    {
      "cell_type": "code",
      "source": [
        "import numpy as np\n",
        "from tensorflow.keras.preprocessing import image\n",
        "\n",
        "# Define the path to the image you want to test\n",
        "image_path = \"/content/drive/MyDrive/Face/Categorized/angry/angry/10016.jpg\"\n",
        "\n",
        "# Load the image\n",
        "img = image.load_img(image_path, target_size=(image_height, image_width))\n",
        "\n",
        "# Preprocess the image\n",
        "img_array = image.img_to_array(img)\n",
        "img_array = np.expand_dims(img_array, axis=0)\n",
        "img_array /= 255.  # Normalize pixel values to [0, 1]\n",
        "\n",
        "plt.imshow(img)\n",
        "plt.axis('off')  # Turn off axis\n",
        "plt.show()\n",
        "\n",
        "# Make predictions\n",
        "predictions = model.predict(img_array)\n",
        "\n",
        "# Get the predicted class\n",
        "predicted_class_index = np.argmax(predictions[0])\n",
        "predicted_class = list(train_generator.class_indices.keys())[predicted_class_index]\n",
        "\n",
        "print(\"Predicted class:\", predicted_class)"
      ],
      "metadata": {
        "colab": {
          "base_uri": "https://localhost:8080/",
          "height": 441
        },
        "id": "3sdxSIkI35ND",
        "outputId": "c3ac5b65-a539-4cd1-bde5-d7926b9f41fb"
      },
      "execution_count": null,
      "outputs": [
        {
          "output_type": "display_data",
          "data": {
            "text/plain": [
              "<Figure size 640x480 with 1 Axes>"
            ],
            "image/png": "[encoded data removed]"
          },
          "metadata": {}
        },
        {
          "output_type": "stream",
          "name": "stdout",
          "text": [
            "1/1 [==============================] - 0s 57ms/step\n",
            "Predicted class: angry\n"
          ]
        }
      ]
    },
    {
      "cell_type": "code",
      "source": [],
      "metadata": {
        "id": "DE1A64fY4sOk"
      },
      "execution_count": null,
      "outputs": []
    }
  ],
  "metadata": {
    "colab": {
      "provenance": []
    },
    "kernelspec": {
      "display_name": "Python 3",
      "name": "python3"
    },
    "language_info": {
      "name": "python"
    }
  },
  "nbformat": 4,
  "nbformat_minor": 0
}